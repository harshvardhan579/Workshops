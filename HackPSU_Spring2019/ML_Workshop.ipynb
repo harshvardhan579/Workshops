{
 "cells": [
  {
   "cell_type": "markdown",
   "metadata": {},
   "source": [
    "# Classification Examples (Complete, with Edits)"
   ]
  },
  {
   "cell_type": "markdown",
   "metadata": {},
   "source": [
    "The first cells are already filled in. They import packages, load the data, and include functions for data visualization. "
   ]
  },
  {
   "cell_type": "code",
   "execution_count": null,
   "metadata": {},
   "outputs": [],
   "source": [
    "# imports\n",
    "import numpy as np\n",
    "import pandas as pd\n",
    "import matplotlib.pyplot as plt\n",
    "from matplotlib.colors import ListedColormap\n",
    "from matplotlib import style; style.use('ggplot')"
   ]
  },
  {
   "cell_type": "code",
   "execution_count": null,
   "metadata": {},
   "outputs": [],
   "source": [
    "# load data\n",
    "data = pd.read_csv('exam_scores.csv')\n",
    "data.head()"
   ]
  },
  {
   "cell_type": "code",
   "execution_count": null,
   "metadata": {},
   "outputs": [],
   "source": [
    "# set up features and labels\n",
    "X = data.values[:, [0, 1]]\n",
    "y = data.values[:, -1]\n",
    "m = y.size"
   ]
  },
  {
   "cell_type": "code",
   "execution_count": null,
   "metadata": {},
   "outputs": [],
   "source": [
    "def plot_data():\n",
    "    \"\"\" Plots data \"\"\"\n",
    "    # admitted: green, denied: red\n",
    "    plt.scatter(X[:, 0], X[:, 1], c=y, cmap='RdYlGn')\n",
    "    \n",
    "    # label and show plot\n",
    "    plt.title('Exam Scores vs Admittance')\n",
    "    plt.xlabel('Exam 1 Score')\n",
    "    plt.ylabel('Exam 2 Score')\n",
    "    \n",
    "    plt.show()\n",
    "    \n",
    "    return None"
   ]
  },
  {
   "cell_type": "code",
   "execution_count": null,
   "metadata": {},
   "outputs": [],
   "source": [
    "plot_data()"
   ]
  },
  {
   "cell_type": "code",
   "execution_count": null,
   "metadata": {},
   "outputs": [],
   "source": [
    "def decision_boundary(clf):\n",
    "    \"\"\" Plots decision boundary given a classifier \"\"\"\n",
    "    # entire grid\n",
    "    X1, X2 = np.meshgrid(np.arange(start=min(X[:, 0]), stop=max(X[:, 0]), step=0.1),\n",
    "                         np.arange(start=min(X[:, 1]), stop=max(X[:, 1]), step=0.1))\n",
    "    \n",
    "    # plot predictions\n",
    "    plt.contourf(X1, X2, clf.predict(np.array([X1.ravel(), X2.ravel()]).T).reshape(X1.shape),\n",
    "                 alpha=0.75, cmap=ListedColormap(('lightpink', 'lightgreen')))\n",
    "    \n",
    "    # show original data on top\n",
    "    plot_data()\n",
    "    \n",
    "    return None"
   ]
  },
  {
   "cell_type": "markdown",
   "metadata": {},
   "source": [
    "# Your turn! Make some classifiers and test them out.\n",
    "In every cell, you should:\n",
    "- import the classifier from sklearn\n",
    "- create an instance of the classifier\n",
    "- fit the classifier\n",
    "- make predictions with the decision boundary function"
   ]
  },
  {
   "cell_type": "code",
   "execution_count": null,
   "metadata": {},
   "outputs": [],
   "source": [
    "# make KNN classifier"
   ]
  },
  {
   "cell_type": "code",
   "execution_count": null,
   "metadata": {},
   "outputs": [],
   "source": [
    "# make logistic regression classifier"
   ]
  },
  {
   "cell_type": "code",
   "execution_count": null,
   "metadata": {},
   "outputs": [],
   "source": [
    "# make SVM classifier"
   ]
  },
  {
   "cell_type": "code",
   "execution_count": null,
   "metadata": {},
   "outputs": [],
   "source": [
    "# make decision tree classifier"
   ]
  },
  {
   "cell_type": "markdown",
   "metadata": {},
   "source": [
    "The next cell will not run unless the GraphViz package is installed. This does not come with anaconda. In terminal type:\n",
    "\n",
    "> pip install graphviz\n",
    "\n",
    "Or, don't install graphviz, don't run the cell, and just follow along on screen!"
   ]
  },
  {
   "cell_type": "code",
   "execution_count": null,
   "metadata": {},
   "outputs": [],
   "source": [
    "# functionality to see tree diagram\n",
    "from sklearn.tree import export_graphviz; import graphviz\n",
    "dot_data = export_graphviz(tree, out_file=None, \n",
    "                           feature_names=['Exam 1', 'Exam 2'], \n",
    "                           class_names=['Denied', 'Admitted'],\n",
    "                           filled=True, rounded=True, special_characters=True, \n",
    "                           impurity=False, precision=1) \n",
    "graphviz.Source(dot_data)  "
   ]
  },
  {
   "cell_type": "code",
   "execution_count": null,
   "metadata": {},
   "outputs": [],
   "source": [
    "# make neural net"
   ]
  }
 ],
 "metadata": {
  "kernelspec": {
   "display_name": "Python 3",
   "language": "python",
   "name": "python3"
  },
  "language_info": {
   "codemirror_mode": {
    "name": "ipython",
    "version": 3
   },
   "file_extension": ".py",
   "mimetype": "text/x-python",
   "name": "python",
   "nbconvert_exporter": "python",
   "pygments_lexer": "ipython3",
   "version": "3.6.6"
  }
 },
 "nbformat": 4,
 "nbformat_minor": 2
}
